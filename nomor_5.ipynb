{
  "nbformat": 4,
  "nbformat_minor": 0,
  "metadata": {
    "colab": {
      "provenance": []
    },
    "kernelspec": {
      "name": "python3",
      "display_name": "Python 3"
    },
    "language_info": {
      "name": "python"
    }
  },
  "cells": [
    {
      "cell_type": "code",
      "source": [
        "from sklearn.model_selection import train_test_split\n",
        "from tensorflow.keras.datasets import mnist\n",
        "\n",
        "# Memuat dataset MNIST\n",
        "(X, y), (_, _) = mnist.load_data()\n",
        "\n",
        "# Reshape gambar menjadi vektor satu dimensi\n",
        "X = X.reshape((X.shape[0], -1))\n",
        "\n",
        "# Bagi dataset menjadi data latih dan data uji (misalnya, 80% latih, 20% uji)\n",
        "X_train, X_test, y_train, y_test = train_test_split(X, y, test_size=0.2, random_state=42)\n",
        "\n",
        "# Pastikan untuk mengubah kembali dimensi gambar jika menggunakan CNN\n",
        "# Jika menggunakan model sederhana, langkah ini mungkin tidak diperlukan\n",
        "# X_train = X_train.reshape((X_train.shape[0], 28, 28))\n",
        "# X_test = X_test.reshape((X_test.shape[0], 28, 28))\n",
        "from sklearn.model_selection import train_test_split\n",
        "from tensorflow.keras.datasets import mnist\n",
        "\n",
        "# Load dataset\n",
        "(x_train, y_train), (x_test, y_test) = mnist.load_data()\n",
        "\n",
        "# Reshape and normalize the input data\n",
        "x_train = x_train.reshape((len(x_train), -1)) / 255.0\n",
        "x_test = x_test.reshape((len(x_test), -1)) / 255.0\n",
        "\n",
        "# Split the dataset into training and testing sets\n",
        "x_train, x_val, y_train, y_val = train_test_split(x_train, y_train, test_size=0.2, random_state=42)\n",
        "from tensorflow.keras import Sequential\n",
        "from tensorflow.keras.layers import Dense\n",
        "\n",
        "# Create a simple neural network model\n",
        "model = Sequential()\n",
        "model.add(Dense(128, activation='relu', input_shape=(784,)))\n",
        "model.add(Dense(10, activation='softmax'))\n",
        "\n",
        "# Compile the model\n",
        "model.compile(optimizer='adam', loss='sparse_categorical_crossentropy', metrics=['accuracy'])\n",
        "\n",
        "# Train the model\n",
        "model.fit(x_train, y_train, epochs=10, batch_size=32, validation_data=(x_val, y_val))\n",
        "# Predict labels for the test set"
      ],
      "metadata": {
        "colab": {
          "base_uri": "https://localhost:8080/"
        },
        "id": "4EO5CO8jnAZq",
        "outputId": "696a7d53-4086-4bfd-feff-0e71178148bf"
      },
      "execution_count": 4,
      "outputs": [
        {
          "output_type": "stream",
          "name": "stdout",
          "text": [
            "Epoch 1/10\n",
            "1500/1500 [==============================] - 11s 7ms/step - loss: 0.2896 - accuracy: 0.9172 - val_loss: 0.1631 - val_accuracy: 0.9532\n",
            "Epoch 2/10\n",
            "1500/1500 [==============================] - 9s 6ms/step - loss: 0.1291 - accuracy: 0.9617 - val_loss: 0.1230 - val_accuracy: 0.9640\n",
            "Epoch 3/10\n",
            "1500/1500 [==============================] - 9s 6ms/step - loss: 0.0896 - accuracy: 0.9737 - val_loss: 0.0962 - val_accuracy: 0.9732\n",
            "Epoch 4/10\n",
            "1500/1500 [==============================] - 8s 5ms/step - loss: 0.0666 - accuracy: 0.9795 - val_loss: 0.1020 - val_accuracy: 0.9697\n",
            "Epoch 5/10\n",
            "1500/1500 [==============================] - 10s 7ms/step - loss: 0.0509 - accuracy: 0.9840 - val_loss: 0.0847 - val_accuracy: 0.9758\n",
            "Epoch 6/10\n",
            "1500/1500 [==============================] - 10s 7ms/step - loss: 0.0397 - accuracy: 0.9882 - val_loss: 0.0859 - val_accuracy: 0.9749\n",
            "Epoch 7/10\n",
            "1500/1500 [==============================] - 8s 6ms/step - loss: 0.0299 - accuracy: 0.9912 - val_loss: 0.0881 - val_accuracy: 0.9770\n",
            "Epoch 8/10\n",
            "1500/1500 [==============================] - 8s 6ms/step - loss: 0.0249 - accuracy: 0.9924 - val_loss: 0.0867 - val_accuracy: 0.9781\n",
            "Epoch 9/10\n",
            "1500/1500 [==============================] - 9s 6ms/step - loss: 0.0208 - accuracy: 0.9938 - val_loss: 0.0894 - val_accuracy: 0.9774\n",
            "Epoch 10/10\n",
            "1500/1500 [==============================] - 8s 6ms/step - loss: 0.0156 - accuracy: 0.9955 - val_loss: 0.0856 - val_accuracy: 0.9778\n"
          ]
        },
        {
          "output_type": "execute_result",
          "data": {
            "text/plain": [
              "<keras.src.callbacks.History at 0x79d28de55450>"
            ]
          },
          "metadata": {},
          "execution_count": 4
        }
      ]
    }
  ]
}